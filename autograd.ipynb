{
 "cells": [
  {
   "cell_type": "code",
   "execution_count": 1,
   "metadata": {},
   "outputs": [],
   "source": [
    "import torch"
   ]
  },
  {
   "cell_type": "code",
   "execution_count": 2,
   "metadata": {},
   "outputs": [],
   "source": [
    "from torch.autograd import Function\n",
    "\n",
    "# 5.24.4\n",
    "class Sigmoid(Function):\n",
    "    @staticmethod\n",
    "    def forward(ctx, x):\n",
    "        sig = 1 / (1 + torch.exp(-x))\n",
    "        ctx.save_for_backward(sig)\n",
    "        return sig\n",
    "    \n",
    "    @staticmethod\n",
    "    def backward(ctx, grad_output):\n",
    "        sig, = ctx.saved_tensors\n",
    "        return grad_output * sig * (1 - sig)"
   ]
  },
  {
   "cell_type": "code",
   "execution_count": 45,
   "metadata": {},
   "outputs": [
    {
     "data": {
      "text/plain": [
       "(tensor([ 0.4025, -0.3739,  1.0061], requires_grad=True),\n",
       " tensor([0.5993, 0.4076, 0.7323], grad_fn=<SigmoidBackward>),\n",
       " tensor([0.2401, 0.2415, 0.1961]))"
      ]
     },
     "execution_count": 45,
     "metadata": {},
     "output_type": "execute_result"
    }
   ],
   "source": [
    "x = torch.randn(3, requires_grad=True)\n",
    "y = Sigmoid.apply(x)\n",
    "y.backward(torch.ones_like(y))\n",
    "x, y, x.grad"
   ]
  },
  {
   "cell_type": "code",
   "execution_count": 44,
   "metadata": {},
   "outputs": [
    {
     "data": {
      "text/plain": [
       "(tensor([-1.6021,  1.2068,  0.6890], requires_grad=True),\n",
       " tensor([0.0000, 1.2068, 0.6890], grad_fn=<ReLUBackward>),\n",
       " tensor([0., 1., 1.]))"
      ]
     },
     "execution_count": 44,
     "metadata": {},
     "output_type": "execute_result"
    }
   ],
   "source": [
    "# 5.24.5\n",
    "class ReLU(Function):\n",
    "    @staticmethod\n",
    "    def forward(ctx, x):\n",
    "        ctx.save_for_backward(x)\n",
    "        return x.clamp(min=0)\n",
    "       \n",
    "    @staticmethod\n",
    "    def backward(ctx, grad_output):\n",
    "        x, = ctx.saved_tensors\n",
    "        grad = grad_output.clone()\n",
    "        grad[x < 0] = 0\n",
    "        return grad\n",
    "        \n",
    "x = torch.randn(3, requires_grad=True)\n",
    "y = ReLU.apply(x)\n",
    "y.backward(torch.ones_like(y))\n",
    "x, y, x.grad"
   ]
  },
  {
   "cell_type": "code",
   "execution_count": 36,
   "metadata": {},
   "outputs": [
    {
     "data": {
      "text/plain": [
       "(array([0.37 , 0.192, 0.571]), array([0.3884231 , 0.19441289, 0.64900536]))"
      ]
     },
     "execution_count": 36,
     "metadata": {},
     "output_type": "execute_result"
    }
   ],
   "source": [
    "import numpy as np\n",
    "test_x = np.array([0.37, 0.192, 0.571])\n",
    "test_y = np.arctanh(test_x)\n",
    "test_x, test_y\n"
   ]
  },
  {
   "cell_type": "code",
   "execution_count": 55,
   "metadata": {},
   "outputs": [
    {
     "data": {
      "text/plain": [
       "(tensor([0.3700, 0.1920, 0.5710], dtype=torch.float64, requires_grad=True),\n",
       " tensor([0.3884, 0.1944, 0.6490], dtype=torch.float64, grad_fn=<ArtanhBackward>),\n",
       " tensor([1.1586, 1.0383, 1.4838], dtype=torch.float64))"
      ]
     },
     "execution_count": 55,
     "metadata": {},
     "output_type": "execute_result"
    }
   ],
   "source": [
    "# 5.25\n",
    "class Artanh(Function):\n",
    "    @staticmethod\n",
    "    def forward(ctx, x):\n",
    "        ctx.save_for_backward(x)\n",
    "        return torch.log_(1 + x).sub_(torch.log_(1 - x)).mul_(0.5)\n",
    "    \n",
    "    @staticmethod\n",
    "    def backward(ctx, grad_output):\n",
    "        x, = ctx.saved_tensors\n",
    "        return grad_output / (1 - torch.pow(x, 2))\n",
    "    \n",
    "x = torch.tensor([0.37, 0.192, 0.571], requires_grad=True, dtype=torch.double)\n",
    "y = Artanh.apply(x)\n",
    "y.backward(torch.ones_like(y))\n",
    "x, y, x.grad"
   ]
  },
  {
   "cell_type": "code",
   "execution_count": 58,
   "metadata": {},
   "outputs": [
    {
     "data": {
      "text/plain": [
       "True"
      ]
     },
     "execution_count": 58,
     "metadata": {},
     "output_type": "execute_result"
    }
   ],
   "source": [
    "torch.autograd.gradcheck(Artanh.apply, torch.tensor(test_x, requires_grad=True, dtype=torch.double))"
   ]
  },
  {
   "cell_type": "code",
   "execution_count": 3,
   "metadata": {},
   "outputs": [
    {
     "data": {
      "text/plain": [
       "(8.0, Array(3., dtype=float32, weak_type=True))"
      ]
     },
     "execution_count": 3,
     "metadata": {},
     "output_type": "execute_result"
    }
   ],
   "source": [
    "# 5.27.5\n",
    "import jax\n",
    "import jax.numpy as jnp\n",
    "\n",
    "def jax_fn(x):\n",
    "    return 3 * x + 2\n",
    "\n",
    "jax_fn(2.), jax.grad(jax_fn)(2.)"
   ]
  },
  {
   "cell_type": "code",
   "execution_count": 5,
   "metadata": {},
   "outputs": [
    {
     "data": {
      "text/plain": [
       "(146.0, Array(54., dtype=float32, weak_type=True))"
      ]
     },
     "execution_count": 5,
     "metadata": {},
     "output_type": "execute_result"
    }
   ],
   "source": [
    "def fn2(x):\n",
    "    return 5*x**2 + 4*x + 1\n",
    "fn2(5.), jax.grad(fn2)(5.)"
   ]
  },
  {
   "cell_type": "code",
   "execution_count": 6,
   "metadata": {},
   "outputs": [
    {
     "data": {
      "image/png": "[encoded data removed]",
      "text/latex": [
       "$\\displaystyle \\int\\limits_{0}^{\\infty} \\sqrt{\\frac{1}{x}}\\, dx$"
      ],
      "text/plain": [
       "∞           \n",
       "⌠           \n",
       "⎮     ___   \n",
       "⎮    ╱ 1    \n",
       "⎮   ╱  ─  dx\n",
       "⎮ ╲╱   x    \n",
       "⌡           \n",
       "0           "
      ]
     },
     "execution_count": 6,
     "metadata": {},
     "output_type": "execute_result"
    }
   ],
   "source": [
    "import sympy as sp\n",
    "from sympy import *\n",
    "init_printing()\n",
    "x, y, z = symbols('x y z')\n",
    "Integral(sqrt(1/x), (x, 0, oo))"
   ]
  },
  {
   "cell_type": "code",
   "execution_count": null,
   "metadata": {},
   "outputs": [],
   "source": []
  }
 ],
 "metadata": {
  "kernelspec": {
   "display_name": "Python 3",
   "language": "python",
   "name": "python3"
  },
  "language_info": {
   "codemirror_mode": {
    "name": "ipython",
    "version": 3
   },
   "file_extension": ".py",
   "mimetype": "text/x-python",
   "name": "python",
   "nbconvert_exporter": "python",
   "pygments_lexer": "ipython3",
   "version": "3.10.10"
  },
  "orig_nbformat": 4
 },
 "nbformat": 4,
 "nbformat_minor": 2
}
