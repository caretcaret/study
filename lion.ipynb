{
 "cells": [
  {
   "cell_type": "code",
   "execution_count": 1,
   "metadata": {},
   "outputs": [],
   "source": [
    "import torch\n",
    "from torch import Tensor\n",
    "from torch.optim import Optimizer\n",
    "\n",
    "from typing import List, Tuple"
   ]
  },
  {
   "cell_type": "code",
   "execution_count": 113,
   "metadata": {},
   "outputs": [],
   "source": [
    "def lion_(\n",
    "    weight: Tensor,\n",
    "    gradient: Tensor,\n",
    "    momentum: float,\n",
    "    lr: float,\n",
    "    betas: Tuple[float, float],\n",
    "    wd: float,\n",
    "  ):\n",
    "  \"\"\"From https://arxiv.org/abs/2302.06675\"\"\"\n",
    "  beta1, beta2 = betas\n",
    "\n",
    "  with torch.no_grad():\n",
    "    # lion update\n",
    "    update = momentum.mul(beta1).add(gradient, alpha=1. - beta1).sign_()\n",
    "    weight.mul_(1. - wd * lr).sub_(update, alpha=lr)\n",
    "    # momentum update\n",
    "    momentum.mul_(beta2).add_(gradient, alpha=1. - beta2)\n",
    "\n",
    "class Lion(Optimizer):\n",
    "  def __init__(self, params, lr=3e-4, betas=(0.95, 0.98), wd=0.01):\n",
    "    defaults = dict(\n",
    "        lr=lr,\n",
    "        betas=betas,\n",
    "        wd=wd,\n",
    "    )\n",
    "    super().__init__(params, defaults)\n",
    "\n",
    "    self.state['momentum'] = [\n",
    "        [torch.zeros_like(param) for param in group['params']]\n",
    "        for group in self.param_groups\n",
    "    ]\n",
    "\n",
    "  def step(self, closure=None):\n",
    "    loss = None\n",
    "    if closure is not None:\n",
    "      with torch.enable_grad():\n",
    "        loss = closure()\n",
    "    \n",
    "    for i, group in enumerate(self.param_groups):\n",
    "      for j, param in enumerate(group['params']):\n",
    "        if param.grad is None:\n",
    "          pass\n",
    "        lion_(param, param.grad, self.state['momentum'][i][j],\n",
    "              group['lr'], group['betas'], group['wd'])\n",
    "\n",
    "    return loss\n"
   ]
  },
  {
   "cell_type": "code",
   "execution_count": 57,
   "metadata": {},
   "outputs": [],
   "source": [
    "# Test Lion.\n",
    "from torchvision import datasets\n",
    "import torchvision.transforms as T\n",
    "\n",
    "train = datasets.FashionMNIST(\n",
    "    root=\"data\",\n",
    "    train=True,\n",
    "    download=True,\n",
    "    transform=T.Compose([\n",
    "        T.ToTensor(),\n",
    "    ]),\n",
    "    target_transform=T.Lambda(lambda y: torch.zeros(10, dtype=torch.float, device=\"mps\").scatter_(0, torch.tensor(y).to(\"mps\"), value=1))\n",
    ")\n",
    "\n",
    "test = datasets.FashionMNIST(\n",
    "    root=\"data\",\n",
    "    train=False,\n",
    "    download=True,\n",
    "    transform=T.ToTensor(),\n",
    "    target_transform=T.Lambda(lambda y: torch.zeros(10, dtype=torch.float, device=\"mps\").scatter_(0, torch.tensor(y).to(\"mps\"), value=1))\n",
    ")"
   ]
  },
  {
   "cell_type": "code",
   "execution_count": 40,
   "metadata": {},
   "outputs": [],
   "source": [
    "import torch.utils.data\n",
    "\n",
    "train_dataloader = torch.utils.data.DataLoader(train, batch_size=100)\n",
    "test_dataloader = torch.utils.data.DataLoader(test, batch_size=100)\n",
    "label_names = [\"T-shirt/Top\", \"Trouser\", \"Pullover\", \"Dress\", \"Coat\", \"Sandal\", \"Shirt\", \"Sneaker\", \"Bag\", \"Ankle Boot\"]"
   ]
  },
  {
   "cell_type": "code",
   "execution_count": 43,
   "metadata": {},
   "outputs": [
    {
     "data": {
      "text/plain": [
       "<matplotlib.image.AxesImage at 0x16c309420>"
      ]
     },
     "execution_count": 43,
     "metadata": {},
     "output_type": "execute_result"
    },
    {
     "data": {
      "image/png": "[encoded data removed]",
      "text/plain": [
       "<Figure size 640x480 with 1 Axes>"
      ]
     },
     "metadata": {},
     "output_type": "display_data"
    }
   ],
   "source": [
    "import matplotlib.pyplot as plt\n",
    "x, y = next(iter(train_dataloader))\n",
    "plt.imshow(x.view(100, 28, 28)[0], cmap=\"gray\")"
   ]
  },
  {
   "cell_type": "code",
   "execution_count": 9,
   "metadata": {},
   "outputs": [],
   "source": [
    "import torch.nn as nn\n",
    "class FashionCNN(nn.Module):\n",
    "    \n",
    "    def __init__(self):\n",
    "        super(FashionCNN, self).__init__()\n",
    "        \n",
    "        self.layer1 = nn.Sequential(\n",
    "            nn.Conv2d(in_channels=1, out_channels=32, kernel_size=3, padding=1),\n",
    "            nn.BatchNorm2d(32),\n",
    "            nn.ReLU(),\n",
    "            nn.MaxPool2d(kernel_size=2, stride=2)\n",
    "        )\n",
    "        \n",
    "        self.layer2 = nn.Sequential(\n",
    "            nn.Conv2d(in_channels=32, out_channels=64, kernel_size=3),\n",
    "            nn.BatchNorm2d(64),\n",
    "            nn.ReLU(),\n",
    "            nn.MaxPool2d(2)\n",
    "        )\n",
    "        \n",
    "        self.fc1 = nn.Linear(in_features=64*6*6, out_features=600)\n",
    "        self.drop = nn.Dropout2d(0.25)\n",
    "        self.fc2 = nn.Linear(in_features=600, out_features=120)\n",
    "        self.fc3 = nn.Linear(in_features=120, out_features=10)\n",
    "        \n",
    "    def forward(self, x):\n",
    "        out = self.layer1(x)\n",
    "        out = self.layer2(out)\n",
    "        out = out.view(out.size(0), -1)\n",
    "        out = self.fc1(out)\n",
    "        out = self.drop(out)\n",
    "        out = self.fc2(out)\n",
    "        out = self.fc3(out)\n",
    "        \n",
    "        return out"
   ]
  },
  {
   "cell_type": "code",
   "execution_count": 114,
   "metadata": {},
   "outputs": [
    {
     "name": "stdout",
     "output_type": "stream",
     "text": [
      "FashionCNN(\n",
      "  (layer1): Sequential(\n",
      "    (0): Conv2d(1, 32, kernel_size=(3, 3), stride=(1, 1), padding=(1, 1))\n",
      "    (1): BatchNorm2d(32, eps=1e-05, momentum=0.1, affine=True, track_running_stats=True)\n",
      "    (2): ReLU()\n",
      "    (3): MaxPool2d(kernel_size=2, stride=2, padding=0, dilation=1, ceil_mode=False)\n",
      "  )\n",
      "  (layer2): Sequential(\n",
      "    (0): Conv2d(32, 64, kernel_size=(3, 3), stride=(1, 1))\n",
      "    (1): BatchNorm2d(64, eps=1e-05, momentum=0.1, affine=True, track_running_stats=True)\n",
      "    (2): ReLU()\n",
      "    (3): MaxPool2d(kernel_size=2, stride=2, padding=0, dilation=1, ceil_mode=False)\n",
      "  )\n",
      "  (fc1): Linear(in_features=2304, out_features=600, bias=True)\n",
      "  (drop): Dropout2d(p=0.25, inplace=False)\n",
      "  (fc2): Linear(in_features=600, out_features=120, bias=True)\n",
      "  (fc3): Linear(in_features=120, out_features=10, bias=True)\n",
      ")\n"
     ]
    }
   ],
   "source": [
    "model = FashionCNN().to(\"mps\")\n",
    "\n",
    "error = nn.CrossEntropyLoss()\n",
    "\n",
    "learning_rate = 0.001\n",
    "optimizer = Lion(model.parameters(), lr=1e-4)\n",
    "#optimizer = torch.optim.AdamW(model.parameters(), lr=learning_rate)\n",
    "print(model)"
   ]
  },
  {
   "cell_type": "code",
   "execution_count": 64,
   "metadata": {},
   "outputs": [
    {
     "data": {
      "text/plain": [
       "torch.Size([100, 1, 28, 28])"
      ]
     },
     "execution_count": 64,
     "metadata": {},
     "output_type": "execute_result"
    }
   ],
   "source": [
    "next(iter(train_dataloader))[0].shape"
   ]
  },
  {
   "cell_type": "code",
   "execution_count": 67,
   "metadata": {},
   "outputs": [
    {
     "name": "stderr",
     "output_type": "stream",
     "text": [
      "/opt/homebrew/lib/python3.10/site-packages/torch/nn/functional.py:1331: UserWarning: dropout2d: Received a 2-D input to dropout2d, which is deprecated and will result in an error in a future release. To retain the behavior and silence this warning, please use dropout instead. Note that dropout2d exists to provide channel-wise dropout on inputs with 2 spatial dimensions, a channel dimension, and an optional batch dimension (i.e. 3D or 4D inputs).\n",
      "  warnings.warn(warn_msg)\n"
     ]
    }
   ],
   "source": [
    "from torch.utils.tensorboard import SummaryWriter\n",
    "import torchvision\n",
    "\n",
    "writer = SummaryWriter()\n",
    "images, labels = next(iter(train_dataloader))\n",
    "\n",
    "grid = torchvision.utils.make_grid(images)\n",
    "writer.add_image('images', grid, 0)\n",
    "writer.add_graph(model, images.to(\"mps\"))\n",
    "\n",
    "# TODO: there should be a separate val and test dataloader\n",
    "dataloaders = {\n",
    "    'train': train_dataloader,\n",
    "    'val': test_dataloader,\n",
    "}\n",
    "\n",
    "for epoch in range(20):\n",
    "    accuracy = []\n",
    "    losses = []\n",
    "    for mode in ['train', 'val']:\n",
    "        if mode == 'train':\n",
    "            model.train()\n",
    "        else:\n",
    "            model.eval()\n",
    "        for inputs, labels in dataloaders[mode]:\n",
    "            inputs, labels = inputs.to(\"mps\"), labels.to(\"mps\")\n",
    "            outputs = model(inputs)\n",
    "            loss = error(outputs, labels)\n",
    "            if mode == 'train':\n",
    "                optimizer.zero_grad()\n",
    "                loss.backward()\n",
    "                optimizer.step()\n",
    "            _, preds = torch.max(outputs, 1)\n",
    "            _, labels = torch.max(labels, 1)\n",
    "            accuracy.append(torch.sum(preds == labels).item() / len(labels))\n",
    "            losses.append(loss.item())\n",
    "        writer.add_scalar(f'loss/{mode}', sum(losses) / len(losses), epoch)\n",
    "        writer.add_scalar(f'accuracy/{mode}', sum(accuracy) / len(accuracy), epoch)\n",
    "        "
   ]
  },
  {
   "cell_type": "code",
   "execution_count": 68,
   "metadata": {},
   "outputs": [],
   "source": [
    "writer.flush()"
   ]
  },
  {
   "cell_type": "code",
   "execution_count": 115,
   "metadata": {},
   "outputs": [
    {
     "name": "stdout",
     "output_type": "stream",
     "text": [
      "Iteration: 5, Loss: 1.7653815746307373, Accuracy: 56.83000183105469%\n",
      "Iteration: 10, Loss: 1.225943922996521, Accuracy: 64.51000213623047%\n",
      "Iteration: 15, Loss: 0.9552193880081177, Accuracy: 70.6300048828125%\n",
      "Iteration: 20, Loss: 0.6816796660423279, Accuracy: 73.11000061035156%\n",
      "Iteration: 25, Loss: 0.705669105052948, Accuracy: 74.55000305175781%\n",
      "Iteration: 30, Loss: 0.7660759687423706, Accuracy: 73.81000518798828%\n",
      "Iteration: 35, Loss: 0.50471431016922, Accuracy: 75.93000030517578%\n",
      "Iteration: 40, Loss: 0.7346146702766418, Accuracy: 77.26000213623047%\n",
      "Iteration: 45, Loss: 0.4974069893360138, Accuracy: 78.1500015258789%\n",
      "Iteration: 50, Loss: 0.4821363091468811, Accuracy: 78.2800064086914%\n",
      "Iteration: 55, Loss: 0.6899384260177612, Accuracy: 77.61000061035156%\n",
      "Iteration: 60, Loss: 0.5303571224212646, Accuracy: 79.62000274658203%\n",
      "Iteration: 65, Loss: 0.6787558794021606, Accuracy: 79.75%\n",
      "Iteration: 70, Loss: 0.4894670844078064, Accuracy: 80.87000274658203%\n",
      "Iteration: 75, Loss: 0.48478230834007263, Accuracy: 79.51000213623047%\n",
      "Iteration: 80, Loss: 0.5392302870750427, Accuracy: 81.0300064086914%\n",
      "Iteration: 85, Loss: 0.3700801134109497, Accuracy: 81.34000396728516%\n",
      "Iteration: 90, Loss: 0.6987049579620361, Accuracy: 82.46000671386719%\n",
      "Iteration: 95, Loss: 0.6301360726356506, Accuracy: 83.12000274658203%\n",
      "Iteration: 100, Loss: 0.4370153248310089, Accuracy: 82.83000183105469%\n",
      "Iteration: 105, Loss: 0.5215805172920227, Accuracy: 82.91000366210938%\n",
      "Iteration: 110, Loss: 0.30691444873809814, Accuracy: 82.61000061035156%\n",
      "Iteration: 115, Loss: 0.4850824773311615, Accuracy: 81.2800064086914%\n",
      "Iteration: 120, Loss: 0.37778788805007935, Accuracy: 82.1300048828125%\n",
      "Iteration: 125, Loss: 0.46770843863487244, Accuracy: 83.82000732421875%\n",
      "Iteration: 130, Loss: 0.3795929551124573, Accuracy: 83.46000671386719%\n",
      "Iteration: 135, Loss: 0.4639037847518921, Accuracy: 83.6300048828125%\n"
     ]
    },
    {
     "ename": "KeyboardInterrupt",
     "evalue": "",
     "output_type": "error",
     "traceback": [
      "\u001b[0;31m---------------------------------------------------------------------------\u001b[0m",
      "\u001b[0;31mKeyboardInterrupt\u001b[0m                         Traceback (most recent call last)",
      "Cell \u001b[0;32mIn[115], line 43\u001b[0m\n\u001b[1;32m     40\u001b[0m total \u001b[39m=\u001b[39m \u001b[39m0\u001b[39m\n\u001b[1;32m     41\u001b[0m correct \u001b[39m=\u001b[39m \u001b[39m0\u001b[39m\n\u001b[0;32m---> 43\u001b[0m \u001b[39mfor\u001b[39;00m images, labels \u001b[39min\u001b[39;00m test_dataloader:\n\u001b[1;32m     44\u001b[0m     images, labels \u001b[39m=\u001b[39m images\u001b[39m.\u001b[39mto(device), labels\u001b[39m.\u001b[39mto(device)\n\u001b[1;32m     45\u001b[0m     labels_list\u001b[39m.\u001b[39mappend(labels)\n",
      "File \u001b[0;32m/opt/homebrew/lib/python3.10/site-packages/torch/utils/data/dataloader.py:634\u001b[0m, in \u001b[0;36m_BaseDataLoaderIter.__next__\u001b[0;34m(self)\u001b[0m\n\u001b[1;32m    631\u001b[0m \u001b[39mif\u001b[39;00m \u001b[39mself\u001b[39m\u001b[39m.\u001b[39m_sampler_iter \u001b[39mis\u001b[39;00m \u001b[39mNone\u001b[39;00m:\n\u001b[1;32m    632\u001b[0m     \u001b[39m# TODO(https://github.com/pytorch/pytorch/issues/76750)\u001b[39;00m\n\u001b[1;32m    633\u001b[0m     \u001b[39mself\u001b[39m\u001b[39m.\u001b[39m_reset()  \u001b[39m# type: ignore[call-arg]\u001b[39;00m\n\u001b[0;32m--> 634\u001b[0m data \u001b[39m=\u001b[39m \u001b[39mself\u001b[39;49m\u001b[39m.\u001b[39;49m_next_data()\n\u001b[1;32m    635\u001b[0m \u001b[39mself\u001b[39m\u001b[39m.\u001b[39m_num_yielded \u001b[39m+\u001b[39m\u001b[39m=\u001b[39m \u001b[39m1\u001b[39m\n\u001b[1;32m    636\u001b[0m \u001b[39mif\u001b[39;00m \u001b[39mself\u001b[39m\u001b[39m.\u001b[39m_dataset_kind \u001b[39m==\u001b[39m _DatasetKind\u001b[39m.\u001b[39mIterable \u001b[39mand\u001b[39;00m \\\n\u001b[1;32m    637\u001b[0m         \u001b[39mself\u001b[39m\u001b[39m.\u001b[39m_IterableDataset_len_called \u001b[39mis\u001b[39;00m \u001b[39mnot\u001b[39;00m \u001b[39mNone\u001b[39;00m \u001b[39mand\u001b[39;00m \\\n\u001b[1;32m    638\u001b[0m         \u001b[39mself\u001b[39m\u001b[39m.\u001b[39m_num_yielded \u001b[39m>\u001b[39m \u001b[39mself\u001b[39m\u001b[39m.\u001b[39m_IterableDataset_len_called:\n",
      "File \u001b[0;32m/opt/homebrew/lib/python3.10/site-packages/torch/utils/data/dataloader.py:678\u001b[0m, in \u001b[0;36m_SingleProcessDataLoaderIter._next_data\u001b[0;34m(self)\u001b[0m\n\u001b[1;32m    676\u001b[0m \u001b[39mdef\u001b[39;00m \u001b[39m_next_data\u001b[39m(\u001b[39mself\u001b[39m):\n\u001b[1;32m    677\u001b[0m     index \u001b[39m=\u001b[39m \u001b[39mself\u001b[39m\u001b[39m.\u001b[39m_next_index()  \u001b[39m# may raise StopIteration\u001b[39;00m\n\u001b[0;32m--> 678\u001b[0m     data \u001b[39m=\u001b[39m \u001b[39mself\u001b[39;49m\u001b[39m.\u001b[39;49m_dataset_fetcher\u001b[39m.\u001b[39;49mfetch(index)  \u001b[39m# may raise StopIteration\u001b[39;00m\n\u001b[1;32m    679\u001b[0m     \u001b[39mif\u001b[39;00m \u001b[39mself\u001b[39m\u001b[39m.\u001b[39m_pin_memory:\n\u001b[1;32m    680\u001b[0m         data \u001b[39m=\u001b[39m _utils\u001b[39m.\u001b[39mpin_memory\u001b[39m.\u001b[39mpin_memory(data, \u001b[39mself\u001b[39m\u001b[39m.\u001b[39m_pin_memory_device)\n",
      "File \u001b[0;32m/opt/homebrew/lib/python3.10/site-packages/torch/utils/data/_utils/fetch.py:51\u001b[0m, in \u001b[0;36m_MapDatasetFetcher.fetch\u001b[0;34m(self, possibly_batched_index)\u001b[0m\n\u001b[1;32m     49\u001b[0m         data \u001b[39m=\u001b[39m \u001b[39mself\u001b[39m\u001b[39m.\u001b[39mdataset\u001b[39m.\u001b[39m__getitems__(possibly_batched_index)\n\u001b[1;32m     50\u001b[0m     \u001b[39melse\u001b[39;00m:\n\u001b[0;32m---> 51\u001b[0m         data \u001b[39m=\u001b[39m [\u001b[39mself\u001b[39m\u001b[39m.\u001b[39mdataset[idx] \u001b[39mfor\u001b[39;00m idx \u001b[39min\u001b[39;00m possibly_batched_index]\n\u001b[1;32m     52\u001b[0m \u001b[39melse\u001b[39;00m:\n\u001b[1;32m     53\u001b[0m     data \u001b[39m=\u001b[39m \u001b[39mself\u001b[39m\u001b[39m.\u001b[39mdataset[possibly_batched_index]\n",
      "File \u001b[0;32m/opt/homebrew/lib/python3.10/site-packages/torch/utils/data/_utils/fetch.py:51\u001b[0m, in \u001b[0;36m<listcomp>\u001b[0;34m(.0)\u001b[0m\n\u001b[1;32m     49\u001b[0m         data \u001b[39m=\u001b[39m \u001b[39mself\u001b[39m\u001b[39m.\u001b[39mdataset\u001b[39m.\u001b[39m__getitems__(possibly_batched_index)\n\u001b[1;32m     50\u001b[0m     \u001b[39melse\u001b[39;00m:\n\u001b[0;32m---> 51\u001b[0m         data \u001b[39m=\u001b[39m [\u001b[39mself\u001b[39;49m\u001b[39m.\u001b[39;49mdataset[idx] \u001b[39mfor\u001b[39;00m idx \u001b[39min\u001b[39;00m possibly_batched_index]\n\u001b[1;32m     52\u001b[0m \u001b[39melse\u001b[39;00m:\n\u001b[1;32m     53\u001b[0m     data \u001b[39m=\u001b[39m \u001b[39mself\u001b[39m\u001b[39m.\u001b[39mdataset[possibly_batched_index]\n",
      "File \u001b[0;32m/opt/homebrew/lib/python3.10/site-packages/torchvision/datasets/mnist.py:148\u001b[0m, in \u001b[0;36mMNIST.__getitem__\u001b[0;34m(self, index)\u001b[0m\n\u001b[1;32m    145\u001b[0m     img \u001b[39m=\u001b[39m \u001b[39mself\u001b[39m\u001b[39m.\u001b[39mtransform(img)\n\u001b[1;32m    147\u001b[0m \u001b[39mif\u001b[39;00m \u001b[39mself\u001b[39m\u001b[39m.\u001b[39mtarget_transform \u001b[39mis\u001b[39;00m \u001b[39mnot\u001b[39;00m \u001b[39mNone\u001b[39;00m:\n\u001b[0;32m--> 148\u001b[0m     target \u001b[39m=\u001b[39m \u001b[39mself\u001b[39;49m\u001b[39m.\u001b[39;49mtarget_transform(target)\n\u001b[1;32m    150\u001b[0m \u001b[39mreturn\u001b[39;00m img, target\n",
      "File \u001b[0;32m/opt/homebrew/lib/python3.10/site-packages/torchvision/transforms/transforms.py:486\u001b[0m, in \u001b[0;36mLambda.__call__\u001b[0;34m(self, img)\u001b[0m\n\u001b[1;32m    485\u001b[0m \u001b[39mdef\u001b[39;00m \u001b[39m__call__\u001b[39m(\u001b[39mself\u001b[39m, img):\n\u001b[0;32m--> 486\u001b[0m     \u001b[39mreturn\u001b[39;00m \u001b[39mself\u001b[39;49m\u001b[39m.\u001b[39;49mlambd(img)\n",
      "Cell \u001b[0;32mIn[57], line 20\u001b[0m, in \u001b[0;36m<lambda>\u001b[0;34m(y)\u001b[0m\n\u001b[1;32m      3\u001b[0m \u001b[39mimport\u001b[39;00m \u001b[39mtorchvision\u001b[39;00m\u001b[39m.\u001b[39;00m\u001b[39mtransforms\u001b[39;00m \u001b[39mas\u001b[39;00m \u001b[39mT\u001b[39;00m\n\u001b[1;32m      5\u001b[0m train \u001b[39m=\u001b[39m datasets\u001b[39m.\u001b[39mFashionMNIST(\n\u001b[1;32m      6\u001b[0m     root\u001b[39m=\u001b[39m\u001b[39m\"\u001b[39m\u001b[39mdata\u001b[39m\u001b[39m\"\u001b[39m,\n\u001b[1;32m      7\u001b[0m     train\u001b[39m=\u001b[39m\u001b[39mTrue\u001b[39;00m,\n\u001b[0;32m   (...)\u001b[0m\n\u001b[1;32m     12\u001b[0m     target_transform\u001b[39m=\u001b[39mT\u001b[39m.\u001b[39mLambda(\u001b[39mlambda\u001b[39;00m y: torch\u001b[39m.\u001b[39mzeros(\u001b[39m10\u001b[39m, dtype\u001b[39m=\u001b[39mtorch\u001b[39m.\u001b[39mfloat, device\u001b[39m=\u001b[39m\u001b[39m\"\u001b[39m\u001b[39mmps\u001b[39m\u001b[39m\"\u001b[39m)\u001b[39m.\u001b[39mscatter_(\u001b[39m0\u001b[39m, torch\u001b[39m.\u001b[39mtensor(y)\u001b[39m.\u001b[39mto(\u001b[39m\"\u001b[39m\u001b[39mmps\u001b[39m\u001b[39m\"\u001b[39m), value\u001b[39m=\u001b[39m\u001b[39m1\u001b[39m))\n\u001b[1;32m     13\u001b[0m )\n\u001b[1;32m     15\u001b[0m test \u001b[39m=\u001b[39m datasets\u001b[39m.\u001b[39mFashionMNIST(\n\u001b[1;32m     16\u001b[0m     root\u001b[39m=\u001b[39m\u001b[39m\"\u001b[39m\u001b[39mdata\u001b[39m\u001b[39m\"\u001b[39m,\n\u001b[1;32m     17\u001b[0m     train\u001b[39m=\u001b[39m\u001b[39mFalse\u001b[39;00m,\n\u001b[1;32m     18\u001b[0m     download\u001b[39m=\u001b[39m\u001b[39mTrue\u001b[39;00m,\n\u001b[1;32m     19\u001b[0m     transform\u001b[39m=\u001b[39mT\u001b[39m.\u001b[39mToTensor(),\n\u001b[0;32m---> 20\u001b[0m     target_transform\u001b[39m=\u001b[39mT\u001b[39m.\u001b[39mLambda(\u001b[39mlambda\u001b[39;00m y: torch\u001b[39m.\u001b[39mzeros(\u001b[39m10\u001b[39m, dtype\u001b[39m=\u001b[39mtorch\u001b[39m.\u001b[39mfloat, device\u001b[39m=\u001b[39m\u001b[39m\"\u001b[39m\u001b[39mmps\u001b[39m\u001b[39m\"\u001b[39m)\u001b[39m.\u001b[39mscatter_(\u001b[39m0\u001b[39m, torch\u001b[39m.\u001b[39;49mtensor(y)\u001b[39m.\u001b[39mto(\u001b[39m\"\u001b[39m\u001b[39mmps\u001b[39m\u001b[39m\"\u001b[39m), value\u001b[39m=\u001b[39m\u001b[39m1\u001b[39m))\n\u001b[1;32m     21\u001b[0m )\n",
      "\u001b[0;31mKeyboardInterrupt\u001b[0m: "
     ]
    }
   ],
   "source": [
    "from torch.autograd import Variable\n",
    "device = \"mps\"\n",
    "num_epochs = 5\n",
    "count = 0\n",
    "# Lists for visualization of loss and accuracy \n",
    "loss_list = []\n",
    "iteration_list = []\n",
    "accuracy_list = []\n",
    "\n",
    "# Lists for knowing classwise accuracy\n",
    "predictions_list = []\n",
    "labels_list = []\n",
    "\n",
    "for epoch in range(num_epochs):\n",
    "    for images, labels in train_dataloader:\n",
    "        # Transfering images and labels to GPU if available\n",
    "        images, labels = images.to(device), labels.to(device)\n",
    "    \n",
    "        train = Variable(images.view(100, 1, 28, 28))\n",
    "        labels = Variable(labels)\n",
    "        \n",
    "        # Forward pass \n",
    "        outputs = model(train)\n",
    "        loss = error(outputs, labels)\n",
    "        \n",
    "        # Initializing a gradient as 0 so there is no mixing of gradient among the batches\n",
    "        optimizer.zero_grad()\n",
    "        \n",
    "        #Propagating the error backward\n",
    "        loss.backward()\n",
    "        \n",
    "        # Optimizing the parameters\n",
    "        optimizer.step()\n",
    "    \n",
    "        count += 1\n",
    "    \n",
    "    # Testing the model\n",
    "    \n",
    "        if count % 5 == 0:\n",
    "            total = 0\n",
    "            correct = 0\n",
    "        \n",
    "            for images, labels in test_dataloader:\n",
    "                images, labels = images.to(device), labels.to(device)\n",
    "                labels_list.append(labels)\n",
    "            \n",
    "                test = Variable(images.view(100, 1, 28, 28))\n",
    "            \n",
    "                outputs = model(test)\n",
    "            \n",
    "                predictions = torch.max(outputs, 1)[1].to(device)\n",
    "                predictions_list.append(predictions)\n",
    "                labels_ = torch.max(labels, 1)[1].to(device)\n",
    "                correct += (predictions == labels_).sum()\n",
    "            \n",
    "                total += len(labels_)\n",
    "            \n",
    "            accuracy = correct * 100 / total\n",
    "            loss_list.append(loss.data)\n",
    "            iteration_list.append(count)\n",
    "            accuracy_list.append(accuracy)\n",
    "            print(\"Iteration: {}, Loss: {}, Accuracy: {}%\".format(count, loss.data, accuracy))"
   ]
  },
  {
   "cell_type": "code",
   "execution_count": null,
   "metadata": {},
   "outputs": [],
   "source": []
  }
 ],
 "metadata": {
  "kernelspec": {
   "display_name": "Python 3",
   "language": "python",
   "name": "python3"
  },
  "language_info": {
   "codemirror_mode": {
    "name": "ipython",
    "version": 3
   },
   "file_extension": ".py",
   "mimetype": "text/x-python",
   "name": "python",
   "nbconvert_exporter": "python",
   "pygments_lexer": "ipython3",
   "version": "3.10.10"
  },
  "orig_nbformat": 4
 },
 "nbformat": 4,
 "nbformat_minor": 2
}
